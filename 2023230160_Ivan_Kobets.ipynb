{
 "cells": [
  {
   "cell_type": "markdown",
   "metadata": {},
   "source": [
    "### Step 1\n",
    "\n",
    "Open the image and import all the necessary libraries.\n",
    "\n",
    "Also create a ```show_image``` function for further convenience of image output."
   ]
  },
  {
   "cell_type": "code",
   "execution_count": 1,
   "metadata": {},
   "outputs": [],
   "source": [
    "from dataclasses import dataclass\n",
    "import cv2\n",
    "from cv2.typing import MatLike as OpenCVImage\n",
    "import numpy as np\n",
    "\n",
    "image_path = 'lenna.png'\n",
    "image = cv2.imread(filename=image_path)\n",
    "\n",
    "def show_image(image: OpenCVImage, title: str = \"Image\"):\n",
    "    cv2.imshow(mat=image, winname=title)\n"
   ]
  },
  {
   "cell_type": "markdown",
   "metadata": {},
   "source": [
    "### Step 2\n",
    "\n",
    "Let's create a dataclass to store multiple values as well as a ```get_dimensions``` function to get the dimensions of an image via ```.shape```"
   ]
  },
  {
   "cell_type": "code",
   "execution_count": 251,
   "metadata": {},
   "outputs": [
    {
     "data": {
      "text/plain": [
       "ImageDimensions(width=512, height=512, channels=3)"
      ]
     },
     "execution_count": 251,
     "metadata": {},
     "output_type": "execute_result"
    }
   ],
   "source": [
    "@dataclass\n",
    "class ImageDimensions:\n",
    "    width: int\n",
    "    height: int\n",
    "    channels: int\n",
    "\n",
    "\n",
    "def get_dimensions(image: OpenCVImage) -> ImageDimensions:\n",
    "    height, width, channels = image.shape\n",
    "    return ImageDimensions(\n",
    "        width=width, height=height, channels=channels\n",
    "    )\n",
    "\n",
    "\n",
    "get_dimensions(image=image)"
   ]
  },
  {
   "cell_type": "markdown",
   "metadata": {},
   "source": [
    "### Step 3\n",
    "\n",
    "Сreate a function ```convert_to_grayscale``` to convert an image to grayscale using ```cv2.COLOR_BGR2GRAY```."
   ]
  },
  {
   "cell_type": "code",
   "execution_count": null,
   "metadata": {},
   "outputs": [],
   "source": [
    "def convert_to_grayscale(image: OpenCVImage):\n",
    "    new_image = cv2.cvtColor(\n",
    "        src=image, code=cv2.COLOR_BGR2GRAY\n",
    "    )\n",
    "    return new_image\n",
    "\n",
    "\n",
    "image = convert_to_grayscale(image=image)\n",
    "show_image(image=image, title='Grayscale image')"
   ]
  },
  {
   "cell_type": "markdown",
   "metadata": {},
   "source": [
    "### Step 4\n",
    "\n",
    "Create a function ```resize_width``` based on which we will recalculate the size via ```cv2.resize``` and ```cv2.INTER_CUBIC```"
   ]
  },
  {
   "cell_type": "code",
   "execution_count": null,
   "metadata": {},
   "outputs": [],
   "source": [
    "def resize_width(image: OpenCVImage, new_width: int):\n",
    "    height, width = image.shape[:2]  # Trim it down to two values\n",
    "    proportional = new_width / width  # Calculate the proportion\n",
    "    new_height = int(height * proportional)\n",
    "    new_image = cv2.resize(\n",
    "        src=image,\n",
    "        dsize=(new_width, new_height),\n",
    "        interpolation=cv2.INTER_CUBIC,\n",
    "    )\n",
    "    return new_image\n",
    "\n",
    "\n",
    "image = resize_width(\n",
    "    image=image,\n",
    "    new_width=200,\n",
    ")"
   ]
  },
  {
   "cell_type": "markdown",
   "metadata": {},
   "source": [
    "### Step 5\n",
    "\n",
    "Crop the face using the ```crop_face``` function based on the selected coordinates of the top left corner and bottom right corner\n",
    "\n",
    "For convenience of storing coordinates create ```Coordinates``` dataclass."
   ]
  },
  {
   "cell_type": "code",
   "execution_count": null,
   "metadata": {},
   "outputs": [],
   "source": [
    "@dataclass\n",
    "class Coordinate:\n",
    "    x: int\n",
    "    y: int\n",
    "\n",
    "def crop_face(image: OpenCVImage, tl: Coordinate, br: Coordinate):\n",
    "    new_image = image[tl.y:br.y, tl.x:br.x]\n",
    "    return new_image\n",
    "\n",
    "top_left_coordinate = Coordinate(x=85, y=80)\n",
    "bottom_right_coordinate = Coordinate(x=140, y=152)\n",
    "face_image = crop_face(\n",
    "    image=image,\n",
    "    tl=top_left_coordinate,\n",
    "    br=bottom_right_coordinate,\n",
    ")\n",
    "show_image(image=face_image, title='Face image')"
   ]
  },
  {
   "cell_type": "markdown",
   "metadata": {},
   "source": [
    "### Step 6\n",
    "\n",
    "Applying median blur to an image using the ```apply_median_blur``` function"
   ]
  },
  {
   "cell_type": "code",
   "execution_count": null,
   "metadata": {},
   "outputs": [],
   "source": [
    "def apply_median_blur(image: OpenCVImage, kernel_size: int):\n",
    "    new_image = cv2.medianBlur(src=image, ksize=kernel_size)\n",
    "    return new_image\n",
    "\n",
    "face_image = apply_median_blur(image=face_image, kernel_size=3)\n",
    "show_image(image=face_image, title='Median blur face image')"
   ]
  },
  {
   "cell_type": "markdown",
   "metadata": {},
   "source": [
    "### Step 7\n",
    "\n",
    "Create a function ```get_gaussian_adaptive_threshold_image``` to use the gaussian adaptive threshold for image via the function ```cv2.adaptiveThreshold```\n",
    "\n",
    "Create a function ```get_morphological_operations_image``` to use the morphological operations to mask the image via the function ```cv2.morphologyEx```"
   ]
  },
  {
   "cell_type": "code",
   "execution_count": null,
   "metadata": {},
   "outputs": [],
   "source": [
    "def get_gaussian_adaptive_threshold_image(image: OpenCVImage):\n",
    "    new_image = cv2.adaptiveThreshold(\n",
    "        src=image,\n",
    "        maxValue=255,\n",
    "        adaptiveMethod=cv2.ADAPTIVE_THRESH_GAUSSIAN_C,\n",
    "        thresholdType=cv2.THRESH_BINARY,\n",
    "        blockSize=11,\n",
    "        C=2,\n",
    "    )\n",
    "    return new_image\n",
    "\n",
    "def get_morphological_operations_image(image: OpenCVImage, kernel_shape: int = 3):\n",
    "    kernel = np.ones(shape=(kernel_shape, kernel_shape), dtype=np.uint8)\n",
    "    new_image = cv2.morphologyEx(\n",
    "        src=image, op=cv2.MORPH_CLOSE, kernel=kernel,\n",
    "    )\n",
    "    return new_image\n",
    "\n",
    "\n",
    "face_image = get_gaussian_adaptive_threshold_image(image=face_image)\n",
    "show_image(image=face_image, title='Gaussian adaptive threshold image')\n",
    "face_image = get_morphological_operations_image(image=face_image)\n",
    "show_image(image=face_image, title='Morphological operations image')\n"
   ]
  },
  {
   "cell_type": "markdown",
   "metadata": {},
   "source": [
    "### Step 8\n",
    "\n",
    "Perform closing using a larger ```kernel_shape```"
   ]
  },
  {
   "cell_type": "code",
   "execution_count": null,
   "metadata": {},
   "outputs": [],
   "source": [
    "face_image = get_morphological_operations_image(\n",
    "    image=face_image, kernel_shape=5\n",
    ")\n",
    "show_image(image=face_image, title='Closed image')\n"
   ]
  },
  {
   "cell_type": "markdown",
   "metadata": {},
   "source": [
    "### Step 9\n",
    "\n",
    "Сreate a function ```add_salt_and_pepper_noise``` to add salt and pepper noises"
   ]
  },
  {
   "cell_type": "code",
   "execution_count": null,
   "metadata": {},
   "outputs": [],
   "source": [
    "def add_salt_and_pepper_noise(image: OpenCVImage, salt: int = 0.05, pepper: int = 0.05):\n",
    "    new_image = image.copy()  # Create copy of the image so as not to damage the original image\n",
    "\n",
    "    # Using randomness, we will generate coordinates of salt and pepper\n",
    "    coords_salt = [\n",
    "        np.random.randint(0, i - 1, int(salt * image.size))\n",
    "        for i in image.shape\n",
    "    ]\n",
    "    coords_pepper = [\n",
    "        np.random.randint(0, i - 1, int(pepper * image.size))\n",
    "        for i in image.shape\n",
    "    ]\n",
    "    new_image[coords_salt[0], coords_salt[1]] = 255\n",
    "    new_image[coords_pepper[0], coords_pepper[1]] = 0\n",
    "\n",
    "    return new_image\n",
    "\n",
    "face_image = add_salt_and_pepper_noise(image=face_image)\n",
    "show_image(image=face_image, title='Salt and pepper noise image')"
   ]
  },
  {
   "cell_type": "markdown",
   "metadata": {},
   "source": [
    "### Step 10\n",
    "\n",
    "Applying median blur to an image in order to remove noise"
   ]
  },
  {
   "cell_type": "code",
   "execution_count": null,
   "metadata": {},
   "outputs": [],
   "source": [
    "face_image = apply_median_blur(image=face_image, kernel_size=3)\n",
    "show_image(image=face_image, title='Removed noise image')"
   ]
  },
  {
   "cell_type": "markdown",
   "metadata": {},
   "source": [
    "### Step 11\n",
    "\n",
    "Create a negative image using the ```get_negative_image``` function"
   ]
  },
  {
   "cell_type": "code",
   "execution_count": null,
   "metadata": {},
   "outputs": [],
   "source": [
    "def get_negative_image(image: OpenCVImage):\n",
    "    new_image = 255 - image\n",
    "    return new_image\n",
    "\n",
    "face_image = get_negative_image(image=face_image)\n",
    "show_image(image=face_image, title='Negative image')"
   ]
  },
  {
   "cell_type": "markdown",
   "metadata": {},
   "source": [
    "### Step 12\n",
    "\n",
    "Create a ```get_edges``` function to get edges via ```cv2.Canny```"
   ]
  },
  {
   "cell_type": "code",
   "execution_count": null,
   "metadata": {},
   "outputs": [],
   "source": [
    "def get_edges(image: OpenCVImage):\n",
    "    new_image = cv2.Canny(\n",
    "        image=image, threshold1=50, threshold2=150\n",
    "    )\n",
    "    return new_image\n",
    "\n",
    "edges = get_edges(image=face_image)\n",
    "show_image(image=edges, title='Edges')"
   ]
  },
  {
   "cell_type": "markdown",
   "metadata": {},
   "source": [
    "### Step 13\n",
    "\n",
    "Сreate a function ```save_image``` to save the image"
   ]
  },
  {
   "cell_type": "code",
   "execution_count": null,
   "metadata": {},
   "outputs": [],
   "source": [
    "def save_image(image: OpenCVImage, filename: str):\n",
    "    cv2.imwrite(filename=filename, img=image)\n",
    "\n",
    "save_image(image=edges, filename='lenna_edges.png')"
   ]
  }
 ],
 "metadata": {
  "kernelspec": {
   "display_name": ".venv",
   "language": "python",
   "name": "python3"
  },
  "language_info": {
   "codemirror_mode": {
    "name": "ipython",
    "version": 3
   },
   "file_extension": ".py",
   "mimetype": "text/x-python",
   "name": "python",
   "nbconvert_exporter": "python",
   "pygments_lexer": "ipython3",
   "version": "3.12.2"
  }
 },
 "nbformat": 4,
 "nbformat_minor": 2
}
